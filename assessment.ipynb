{
 "cells": [
  {
   "cell_type": "markdown",
   "metadata": {},
   "source": [
    "# Objectives\n",
    "YW\n",
    "* scrape a website for relevant information, store that information to a dataframe and save that dataframe as a csv file\n",
    "* load in a dataframe and do the following\n",
    "    * calculate the zscores of a given column\n",
    "    * calculate the zscores of a point from a given column in the dataframe\n",
    "    * calculate and plot the pmf and cdf of another column"
   ]
  },
  {
   "cell_type": "markdown",
   "metadata": {},
   "source": [
    "# Part 1 - Webscraping\n",
    "* use the following url scrape the first page of results\n",
    "* for each item get the name of the item\n",
    "* store the names to a dataframe and save that dataframe to csv then display\n",
    "    * store the dataframe in the `data` folder in the repo\n",
    "    * name the file `part1.csv` and make sure that when you write it you set `index=False`\n",
    "* the head of the dataframe\n",
    "\n",
    "* it should match the following\n",
    "<img src=\"solutions/images/part1.png\"/>"
   ]
  },
  {
   "cell_type": "code",
   "execution_count": 1,
   "metadata": {},
   "outputs": [],
   "source": [
    "from bs4 import BeautifulSoup\n",
    "import pandas as pd\n",
    "import requests"
   ]
  },
  {
   "cell_type": "code",
   "execution_count": 2,
   "metadata": {},
   "outputs": [],
   "source": [
    "url = \"https://www.petsmart.com/dog/treats/dental-treats/#page_name=flyout&category=dog&cta=dentaltreat\""
   ]
  },
  {
   "cell_type": "code",
   "execution_count": 3,
   "metadata": {},
   "outputs": [],
   "source": [
    "html_page = requests.get(url)\n",
    "soup = BeautifulSoup(html_page.content, 'html.parser')"
   ]
  },
  {
   "cell_type": "code",
   "execution_count": 4,
   "metadata": {},
   "outputs": [],
   "source": [
    "filter_sidebar = soup.find(\"div\", class_=\"filter-menu-bar sidebar-filter\")"
   ]
  },
  {
   "cell_type": "code",
   "execution_count": 5,
   "metadata": {},
   "outputs": [],
   "source": [
    "treats_container = filter_sidebar.nextSibling.nextSibling"
   ]
  },
  {
   "cell_type": "code",
   "execution_count": 6,
   "metadata": {},
   "outputs": [
    {
     "data": {
      "text/plain": [
       "[<a class=\"name-link\" data-lid=\"Greenies Regular Dental Dog Treats\" data-link-type=\"o\" data-lpos=\"product-list\" data-master=\"product-click\" href=\"/dog/treats/dental-treats/greenies-regular-dental-dog-treats-4750.html?cgid=100269\" title=\"Greenies Regular Dental Dog Treats\">\n",
       " <div class=\"product-tile\" data-itemid=\"4750\" id=\"1806d42c4c06fbff2c47b5b2e9\">\n",
       " <div class=\"product-tile-badge\">\n",
       " </div>\n",
       " <div class=\"product-image-wrapper\">\n",
       " <div class=\"product-image\">\n",
       " <img alt=\"\" data-desktop=\"https://s7d2.scene7.com/is/image/PetSmart/5265958?$sclp-prd-main_large$\" data-mobile=\"https://s7d2.scene7.com/is/image/PetSmart/5265958?$sclp-prd-main_small$\" itemprop=\"image\" src=\"https://s7d2.scene7.com/is/image/PetSmart/5265958?$sclp-prd-main_large$\">\n",
       " </img></div>\n",
       " <meta content=\"https://s7d2.scene7.com/is/image/PetSmart/5265958?$sclp-prd-main_large$\" property=\"og:image\">\n",
       " <meta content=\"https://s7d2.scene7.com/is/image/PetSmart/5265958?$sclp-prd-main_large$\" name=\"twitter:image\">\n",
       " <div class=\"product-tile-flavours\">\n",
       " <div class=\"product-flavour-text\">\n",
       " 6\n",
       " Sizes\n",
       " </div>\n",
       " </div>\n",
       " </meta></meta></div>\n",
       " <div>\n",
       " <div class=\"product-name\">\n",
       " <h3>Greenies Regular Dental Dog Treats</h3>\n",
       " </div>\n",
       " <div class=\"product-pricing\">\n",
       " <span itemprop=\"priceCurrency\"><input name=\"priceCurrencyVal\" type=\"hidden\" value=\"USD\"/></span>\n",
       " <div class=\"product-price\">\n",
       " <span class=\"price-regular\"><span class=\"sr-only\">Old Price</span>\n",
       " $4.99\n",
       " -\n",
       " 54.99\n",
       " </span>\n",
       " <div class=\"price-sales tile-autoship\">\n",
       " $4.74\n",
       " - 52.24\n",
       " <div class=\"price-text\">5% off Auto Ship</div>\n",
       " </div>\n",
       " </div>\n",
       " </div>\n",
       " <input class=\"bv-enabled\" type=\"hidden\" value=\"true\">\n",
       " <div id=\"bv-product-tile-4750\"><div id=\"BVRRInlineRating-4750\"></div></div>\n",
       " <script language=\"javascript\" type=\"text/javascript\">\n",
       " \t\tif(typeof bvProdIds == \"undefined\") {\n",
       " \t\t\tbvProdIds = new Array();\n",
       " \t\t}\n",
       " \t\tbvProdIds.push(\"4750\");\n",
       " \t\t</script>\n",
       " <div class=\"product-promo\">\n",
       " <div class=\"promotional-message\">\n",
       " <p>Sign In &amp; Enjoy Free Shipping Over $49</p>\n",
       " </div>\n",
       " </div>\n",
       " </input></div>\n",
       " </div>\n",
       " </a>,\n",
       " <a class=\"name-link\" data-lid=\"Greenies Teenie Dental Dog Treats\" data-link-type=\"o\" data-lpos=\"product-list\" data-master=\"product-click\" href=\"/dog/treats/dental-treats/greenies-teenie-dental-dog-treats-4735.html?cgid=100269\" title=\"Greenies Teenie Dental Dog Treats\">\n",
       " <div class=\"product-tile\" data-itemid=\"4735\" id=\"cbe0a9c33b7ba8cd5bca02562f\">\n",
       " <div class=\"product-tile-badge\">\n",
       " </div>\n",
       " <div class=\"product-image-wrapper\">\n",
       " <div class=\"product-image\">\n",
       " <img alt=\"\" data-desktop=\"https://s7d2.scene7.com/is/image/PetSmart/5265957?$sclp-prd-main_large$\" data-mobile=\"https://s7d2.scene7.com/is/image/PetSmart/5265957?$sclp-prd-main_small$\" itemprop=\"image\" src=\"https://s7d2.scene7.com/is/image/PetSmart/5265957?$sclp-prd-main_large$\">\n",
       " </img></div>\n",
       " <meta content=\"https://s7d2.scene7.com/is/image/PetSmart/5265957?$sclp-prd-main_large$\" property=\"og:image\">\n",
       " <meta content=\"https://s7d2.scene7.com/is/image/PetSmart/5265957?$sclp-prd-main_large$\" name=\"twitter:image\"/>\n",
       " <div class=\"product-tile-flavours\">\n",
       " <div class=\"product-flavour-text\">\n",
       " 6\n",
       " Sizes\n",
       " </div>\n",
       " </div>\n",
       " </meta></div>\n",
       " <div>\n",
       " <div class=\"product-name\">\n",
       " <h3>Greenies Teenie Dental Dog Treats</h3>\n",
       " </div>\n",
       " <div class=\"product-pricing\">\n",
       " <span itemprop=\"priceCurrency\"><input name=\"priceCurrencyVal\" type=\"hidden\" value=\"USD\"/></span>\n",
       " <div class=\"product-price\">\n",
       " <span class=\"price-regular\"><span class=\"sr-only\">Old Price</span>\n",
       " $4.99\n",
       " -\n",
       " 54.99\n",
       " </span>\n",
       " <div class=\"price-sales tile-autoship\">\n",
       " $4.74\n",
       " - 52.24\n",
       " <div class=\"price-text\">5% off Auto Ship</div>\n",
       " </div>\n",
       " </div>\n",
       " </div>\n",
       " <input class=\"bv-enabled\" type=\"hidden\" value=\"true\">\n",
       " <div id=\"bv-product-tile-4735\"><div id=\"BVRRInlineRating-4735\"></div></div>\n",
       " <script language=\"javascript\" type=\"text/javascript\">\n",
       " \t\tif(typeof bvProdIds == \"undefined\") {\n",
       " \t\t\tbvProdIds = new Array();\n",
       " \t\t}\n",
       " \t\tbvProdIds.push(\"4735\");\n",
       " \t\t</script>\n",
       " <div class=\"product-promo\">\n",
       " <div class=\"promotional-message\">\n",
       " <p>Sign In &amp; Enjoy Free Shipping Over $49</p>\n",
       " </div>\n",
       " </div>\n",
       " </input></div>\n",
       " </div>\n",
       " </a>,\n",
       " <a class=\"name-link\" data-lid=\"Greenies Large Dental Dog Treats\" data-link-type=\"o\" data-lpos=\"product-list\" data-master=\"product-click\" href=\"/dog/treats/dental-treats/greenies-large-dental-dog-treats-4742.html?cgid=100269\" title=\"Greenies Large Dental Dog Treats\">\n",
       " <div class=\"product-tile\" data-itemid=\"4742\" id=\"3b2ac471fe7f0ace84de110a57\">\n",
       " <div class=\"product-tile-badge\">\n",
       " </div>\n",
       " <div class=\"product-image-wrapper\">\n",
       " <div class=\"product-image\">\n",
       " <img alt=\"\" data-desktop=\"https://s7d2.scene7.com/is/image/PetSmart/5203879?$sclp-prd-main_large$\" data-mobile=\"https://s7d2.scene7.com/is/image/PetSmart/5203879?$sclp-prd-main_small$\" itemprop=\"image\" src=\"https://s7d2.scene7.com/is/image/PetSmart/5203879?$sclp-prd-main_large$\">\n",
       " </img></div>\n",
       " <meta content=\"https://s7d2.scene7.com/is/image/PetSmart/5203879?$sclp-prd-main_large$\" property=\"og:image\"/>\n",
       " <meta content=\"https://s7d2.scene7.com/is/image/PetSmart/5203879?$sclp-prd-main_large$\" name=\"twitter:image\"/>\n",
       " <div class=\"product-tile-flavours\">\n",
       " <div class=\"product-flavour-text\">\n",
       " 5\n",
       " Sizes\n",
       " </div>\n",
       " </div>\n",
       " </div>\n",
       " <div>\n",
       " <div class=\"product-name\">\n",
       " <h3>Greenies Large Dental Dog Treats</h3>\n",
       " </div>\n",
       " <div class=\"product-pricing\">\n",
       " <span itemprop=\"priceCurrency\"><input name=\"priceCurrencyVal\" type=\"hidden\" value=\"USD\"/></span>\n",
       " <div class=\"product-price\">\n",
       " <span class=\"price-regular\"><span class=\"sr-only\">Old Price</span>\n",
       " $9.99\n",
       " -\n",
       " 54.99\n",
       " </span>\n",
       " <div class=\"price-sales tile-autoship\">\n",
       " $9.49\n",
       " - 52.24\n",
       " <div class=\"price-text\">5% off Auto Ship</div>\n",
       " </div>\n",
       " </div>\n",
       " </div>\n",
       " <input class=\"bv-enabled\" type=\"hidden\" value=\"true\">\n",
       " <div id=\"bv-product-tile-4742\"><div id=\"BVRRInlineRating-4742\"></div></div>\n",
       " <script language=\"javascript\" type=\"text/javascript\">\n",
       " \t\tif(typeof bvProdIds == \"undefined\") {\n",
       " \t\t\tbvProdIds = new Array();\n",
       " \t\t}\n",
       " \t\tbvProdIds.push(\"4742\");\n",
       " \t\t</script>\n",
       " <div class=\"product-promo\">\n",
       " <div class=\"promotional-message\">\n",
       " <p>Sign In &amp; Enjoy Free Shipping Over $49</p>\n",
       " </div>\n",
       " </div>\n",
       " </input></div>\n",
       " </div>\n",
       " </a>,\n",
       " <a class=\"name-link\" data-lid=\"Authority® Dental &amp; DHA Stick Puppy Treats Parsley Mint - Gluten Free, Grain Free\" data-link-type=\"o\" data-lpos=\"product-list\" data-master=\"product-click\" href=\"/dog/treats/dental-treats/authority-dental-and-dha-stick-puppy-treats-parsley-mint---gluten-free-grain-free-51047.html?cgid=100269\" title=\"Authority® Dental &amp; DHA Stick Puppy Treats Parsley Mint - Gluten Free, Grain Free\">\n",
       " <div class=\"product-tile\" data-itemid=\"51047\" id=\"081e15fe4028eb1aad91532611\">\n",
       " <div class=\"product-tile-badge\">\n",
       " </div>\n",
       " <div class=\"product-image-wrapper\">\n",
       " <div class=\"product-image\">\n",
       " <img alt=\"\" data-desktop=\"https://s7d2.scene7.com/is/image/PetSmart/5283218?$sclp-prd-main_large$\" data-mobile=\"https://s7d2.scene7.com/is/image/PetSmart/5283218?$sclp-prd-main_small$\" itemprop=\"image\" src=\"https://s7d2.scene7.com/is/image/PetSmart/5283218?$sclp-prd-main_large$\">\n",
       " </img></div>\n",
       " <meta content=\"https://s7d2.scene7.com/is/image/PetSmart/5283218?$sclp-prd-main_large$\" property=\"og:image\"/>\n",
       " <meta content=\"https://s7d2.scene7.com/is/image/PetSmart/5283218?$sclp-prd-main_large$\" name=\"twitter:image\"/>\n",
       " <div class=\"product-tile-flavours\">\n",
       " </div>\n",
       " </div>\n",
       " <div>\n",
       " <div class=\"product-name\">\n",
       " <h3>Authority<sup>®</sup> Dental &amp; DHA Stick Puppy Treats Parsley Mint - Gluten Free, Grain Free</h3>\n",
       " </div>\n",
       " <div class=\"product-pricing\">\n",
       " <span itemprop=\"priceCurrency\"><input name=\"priceCurrencyVal\" type=\"hidden\" value=\"USD\"/></span>\n",
       " <div class=\"product-price\">\n",
       " <span class=\"price-regular\"><span class=\"sr-only\">Old Price</span>\n",
       " $3.99\n",
       " </span>\n",
       " <div class=\"price-sales tile-autoship\">\n",
       " $3.79\n",
       " <div class=\"price-text\">5% off Auto Ship</div>\n",
       " </div>\n",
       " </div>\n",
       " </div>\n",
       " <input class=\"bv-enabled\" type=\"hidden\" value=\"true\">\n",
       " <div id=\"bv-product-tile-51047\"><div id=\"BVRRInlineRating-51047\"></div></div>\n",
       " <script language=\"javascript\" type=\"text/javascript\">\n",
       " \t\tif(typeof bvProdIds == \"undefined\") {\n",
       " \t\t\tbvProdIds = new Array();\n",
       " \t\t}\n",
       " \t\tbvProdIds.push(\"51047\");\n",
       " \t\t</script>\n",
       " <div class=\"product-promo\">\n",
       " <div class=\"promotional-message\">\n",
       " <p>Buy 2, Get the 3rd 50% Off Dog Treats</p>\n",
       " </div>\n",
       " <div class=\"promotional-message\">\n",
       " <p>Sign In &amp; Enjoy Free Shipping Over $49</p>\n",
       " </div>\n",
       " </div>\n",
       " </input></div>\n",
       " </div>\n",
       " </a>,\n",
       " <a class=\"name-link\" data-lid=\"Greenies Petite Dental Dog Treats\" data-link-type=\"o\" data-lpos=\"product-list\" data-master=\"product-click\" href=\"/dog/treats/dental-treats/greenies-petite-dental-dog-treats-4743.html?cgid=100269\" title=\"Greenies Petite Dental Dog Treats\">\n",
       " <div class=\"product-tile\" data-itemid=\"4743\" id=\"e4dc249bd9a6dfad0fc80c4008\">\n",
       " <div class=\"product-tile-badge\">\n",
       " </div>\n",
       " <div class=\"product-image-wrapper\">\n",
       " <div class=\"product-image\">\n",
       " <img alt=\"\" data-desktop=\"https://s7d2.scene7.com/is/image/PetSmart/5265959?$sclp-prd-main_large$\" data-mobile=\"https://s7d2.scene7.com/is/image/PetSmart/5265959?$sclp-prd-main_small$\" itemprop=\"image\" src=\"https://s7d2.scene7.com/is/image/PetSmart/5265959?$sclp-prd-main_large$\">\n",
       " </img></div>\n",
       " <meta content=\"https://s7d2.scene7.com/is/image/PetSmart/5265959?$sclp-prd-main_large$\" property=\"og:image\"/>\n",
       " <meta content=\"https://s7d2.scene7.com/is/image/PetSmart/5265959?$sclp-prd-main_large$\" name=\"twitter:image\"/>\n",
       " <div class=\"product-tile-flavours\">\n",
       " <div class=\"product-flavour-text\">\n",
       " 6\n",
       " Sizes\n",
       " </div>\n",
       " </div>\n",
       " </div>\n",
       " <div>\n",
       " <div class=\"product-name\">\n",
       " <h3>Greenies Petite Dental Dog Treats</h3>\n",
       " </div>\n",
       " <div class=\"product-pricing\">\n",
       " <span itemprop=\"priceCurrency\"><input name=\"priceCurrencyVal\" type=\"hidden\" value=\"USD\"/></span>\n",
       " <div class=\"product-price\">\n",
       " <span class=\"price-regular\"><span class=\"sr-only\">Old Price</span>\n",
       " $4.99\n",
       " -\n",
       " 54.99\n",
       " </span>\n",
       " <div class=\"price-sales tile-autoship\">\n",
       " $4.74\n",
       " - 52.24\n",
       " <div class=\"price-text\">5% off Auto Ship</div>\n",
       " </div>\n",
       " </div>\n",
       " </div>\n",
       " <input class=\"bv-enabled\" type=\"hidden\" value=\"true\">\n",
       " <div id=\"bv-product-tile-4743\"><div id=\"BVRRInlineRating-4743\"></div></div>\n",
       " <script language=\"javascript\" type=\"text/javascript\">\n",
       " \t\tif(typeof bvProdIds == \"undefined\") {\n",
       " \t\t\tbvProdIds = new Array();\n",
       " \t\t}\n",
       " \t\tbvProdIds.push(\"4743\");\n",
       " \t\t</script>\n",
       " <div class=\"product-promo\">\n",
       " <div class=\"promotional-message\">\n",
       " <p>Sign In &amp; Enjoy Free Shipping Over $49</p>\n",
       " </div>\n",
       " </div>\n",
       " </input></div>\n",
       " </div>\n",
       " </a>,\n",
       " <a class=\"name-link\" data-lid=\"WHIMZEES Brushzees Dental Dog Treat - Natural, Grain Free, 1 Count\" data-link-type=\"o\" data-lpos=\"product-list\" data-master=\"product-click\" href=\"/dog/treats/dental-treats/whimzees-brushzees-dental-dog-treat---natural-grain-free-1-count-60907.html?cgid=100269\" title=\"WHIMZEES Brushzees Dental Dog Treat - Natural, Grain Free, 1 Count\">\n",
       " <div class=\"product-tile\" data-itemid=\"60907\" id=\"753c49f14e29c3a1d56fbc1030\">\n",
       " <div class=\"product-tile-badge\">\n",
       " <div class=\"text-badge\">New</div>\n",
       " </div>\n",
       " <div class=\"product-image-wrapper\">\n",
       " <div class=\"product-image\">\n",
       " <img alt=\"\" data-desktop=\"https://s7d2.scene7.com/is/image/PetSmart/5275113?$sclp-prd-main_large$\" data-mobile=\"https://s7d2.scene7.com/is/image/PetSmart/5275113?$sclp-prd-main_small$\" itemprop=\"image\" src=\"https://s7d2.scene7.com/is/image/PetSmart/5275113?$sclp-prd-main_large$\">\n",
       " </img></div>\n",
       " <meta content=\"https://s7d2.scene7.com/is/image/PetSmart/5275113?$sclp-prd-main_large$\" property=\"og:image\"/>\n",
       " <meta content=\"https://s7d2.scene7.com/is/image/PetSmart/5275113?$sclp-prd-main_large$\" name=\"twitter:image\"/>\n",
       " <div class=\"product-tile-flavours\">\n",
       " <div class=\"product-flavour-text\">\n",
       " 4\n",
       " Sizes\n",
       " </div>\n",
       " </div>\n",
       " </div>\n",
       " <div>\n",
       " <div class=\"product-name\">\n",
       " <h3>WHIMZEES Brushzees Dental Dog Treat - Natural, Grain Free, 1 Count</h3>\n",
       " </div>\n",
       " <div class=\"product-pricing\">\n",
       " <span itemprop=\"priceCurrency\"><input name=\"priceCurrencyVal\" type=\"hidden\" value=\"USD\"/></span>\n",
       " <div class=\"product-price\">\n",
       " <span class=\"price-sales\"><span class=\"sr-only\">Discounted Price</span>\n",
       " $0.49\n",
       " -\n",
       " 4.19\n",
       " </span>\n",
       " <span class=\"price-standard\"><span class=\"sr-only\">Old Price</span>\n",
       " $0.49\n",
       " -\n",
       " 4.99\n",
       " </span>\n",
       " </div>\n",
       " </div>\n",
       " <input class=\"bv-enabled\" type=\"hidden\" value=\"true\">\n",
       " <div id=\"bv-product-tile-60907\"><div id=\"BVRRInlineRating-60907\"></div></div>\n",
       " <script language=\"javascript\" type=\"text/javascript\">\n",
       " \t\tif(typeof bvProdIds == \"undefined\") {\n",
       " \t\t\tbvProdIds = new Array();\n",
       " \t\t}\n",
       " \t\tbvProdIds.push(\"60907\");\n",
       " \t\t</script>\n",
       " </input></div>\n",
       " </div>\n",
       " </a>]"
      ]
     },
     "execution_count": 6,
     "metadata": {},
     "output_type": "execute_result"
    }
   ],
   "source": [
    "# scrape the names of the items on the webpage above\n",
    "items = treats_container.findAll('a')\n",
    "items[0:6]"
   ]
  },
  {
   "cell_type": "code",
   "execution_count": 7,
   "metadata": {},
   "outputs": [
    {
     "data": {
      "text/plain": [
       "'Greenies Regular Dental Dog Treats'"
      ]
     },
     "execution_count": 7,
     "metadata": {},
     "output_type": "execute_result"
    }
   ],
   "source": [
    "items[0].attrs['title']"
   ]
  },
  {
   "cell_type": "code",
   "execution_count": 8,
   "metadata": {},
   "outputs": [
    {
     "name": "stdout",
     "output_type": "stream",
     "text": [
      "38 ['Greenies Regular Dental Dog Treats', 'Greenies Teenie Dental Dog Treats', 'Greenies Large Dental Dog Treats', 'Authority® Dental & DHA Stick Puppy Treats Parsley Mint - Gluten Free, Grain Free', 'Greenies Petite Dental Dog Treats']\n"
     ]
    }
   ],
   "source": [
    "item_titles = [i.attrs['title'] for i in items]\n",
    "print(len(item_titles), item_titles[:5])"
   ]
  },
  {
   "cell_type": "code",
   "execution_count": 9,
   "metadata": {},
   "outputs": [],
   "source": [
    "item_names = []\n",
    "for i in item_titles:\n",
    "    item_names.append(i)"
   ]
  },
  {
   "cell_type": "code",
   "execution_count": 16,
   "metadata": {},
   "outputs": [],
   "source": [
    "del item_names[-1]\n",
    "del item_names[-2]"
   ]
  },
  {
   "cell_type": "code",
   "execution_count": 17,
   "metadata": {},
   "outputs": [
    {
     "data": {
      "text/plain": [
       "['Greenies Regular Dental Dog Treats',\n",
       " 'Greenies Teenie Dental Dog Treats',\n",
       " 'Greenies Large Dental Dog Treats',\n",
       " 'Authority® Dental & DHA Stick Puppy Treats Parsley Mint - Gluten Free, Grain Free',\n",
       " 'Greenies Petite Dental Dog Treats',\n",
       " 'WHIMZEES Brushzees Dental Dog Treat - Natural, Grain Free, 1 Count',\n",
       " 'Pedigree Dentastix Triple Action Dental Dog Treats - Variety Pack',\n",
       " 'Pedigree Dentastix Large Dog Treats',\n",
       " 'Pedigree Dentastix Large Dog Sticks',\n",
       " 'Authority® Dental & DHA Rings Puppy Treats Parsley Mint - Gluten Free, Grain Free',\n",
       " 'WHIMZEES Veggie Sausage Dog Dental Treat - Natural, 1 Count',\n",
       " 'Pedigree Dentastix Small/Medium Dog Sticks',\n",
       " 'Greenies Teenie Dog Dental Treats - Blueberry',\n",
       " 'WHIMZEES Variety Value Box Dental Dog Treat - Natural, Grain Free',\n",
       " 'Virbac® C.E.T.® VeggieDent® Tartar Control Dog Chews',\n",
       " 'Pedigree Dentastix Triple Action Small Dog Treats - Fresh',\n",
       " 'Authority Dental & Multivitamin Large Dog Treats Parsley Mint - Gluten Free, Grain Free',\n",
       " 'Yummy Combs® Ingenious Flossing Dog Dental Treat - 1 Count',\n",
       " 'Pedigree Dentastix Large Dog Sticks',\n",
       " 'Pedigree Dentastix Mini Dog Sticks',\n",
       " 'Ark Naturals® Brushless Toothpaste 4-in-1 Small Dog Dental Chews - 8-20 lbs.',\n",
       " 'Authority® Dental & Multivitamin Medium Dog Treats Parsley Mint - Gluten Free, Grain Free',\n",
       " 'Ark Naturals® Brushless Toothpaste 4-in-1 Large Dog Dental Chews - 40+ lbs.',\n",
       " 'Milk-Bone Brushing Chews Large Dental Dog Treats',\n",
       " 'Milk-Bone Brushing Chew Mini Dental Dog Treats',\n",
       " 'Authority Dental & Multivitamin Small Dog Treats Parsley Mint - Gluten Free, Grain Free',\n",
       " 'WHIMZEES Stix Dental Dog Treat - Natural, 1 Count',\n",
       " 'Greenies Teenie Dental Dog Treats - Fresh',\n",
       " 'Greenies Regular Dog Dental Treats - Blueberry',\n",
       " 'Authority Dental & Multivitamin Parsley Mint Dog Treat Bites - Gluten Free, Grain Free',\n",
       " 'WHIMZEES Alligator Dental Dog Treat - Natural, 1 Count']"
      ]
     },
     "execution_count": 17,
     "metadata": {},
     "output_type": "execute_result"
    }
   ],
   "source": [
    "item_names"
   ]
  },
  {
   "cell_type": "code",
   "execution_count": 18,
   "metadata": {},
   "outputs": [],
   "source": [
    "# load the data into a dataframe file\n",
    "import pandas as pd\n",
    "df = pd.DataFrame([item_names]).transpose()\n",
    "df.columns = ['Dental Treats']"
   ]
  },
  {
   "cell_type": "code",
   "execution_count": 19,
   "metadata": {},
   "outputs": [],
   "source": [
    "# save the data as a csv file\n",
    "df.to_csv('data/part1.csv', index=False)"
   ]
  },
  {
   "cell_type": "code",
   "execution_count": 20,
   "metadata": {},
   "outputs": [
    {
     "data": {
      "text/html": [
       "<div>\n",
       "<style scoped>\n",
       "    .dataframe tbody tr th:only-of-type {\n",
       "        vertical-align: middle;\n",
       "    }\n",
       "\n",
       "    .dataframe tbody tr th {\n",
       "        vertical-align: top;\n",
       "    }\n",
       "\n",
       "    .dataframe thead th {\n",
       "        text-align: right;\n",
       "    }\n",
       "</style>\n",
       "<table border=\"1\" class=\"dataframe\">\n",
       "  <thead>\n",
       "    <tr style=\"text-align: right;\">\n",
       "      <th></th>\n",
       "      <th>Dental Treats</th>\n",
       "    </tr>\n",
       "  </thead>\n",
       "  <tbody>\n",
       "    <tr>\n",
       "      <th>0</th>\n",
       "      <td>Greenies Regular Dental Dog Treats</td>\n",
       "    </tr>\n",
       "    <tr>\n",
       "      <th>1</th>\n",
       "      <td>Greenies Teenie Dental Dog Treats</td>\n",
       "    </tr>\n",
       "    <tr>\n",
       "      <th>2</th>\n",
       "      <td>Greenies Large Dental Dog Treats</td>\n",
       "    </tr>\n",
       "    <tr>\n",
       "      <th>3</th>\n",
       "      <td>Authority® Dental &amp; DHA Stick Puppy Treats Par...</td>\n",
       "    </tr>\n",
       "    <tr>\n",
       "      <th>4</th>\n",
       "      <td>Greenies Petite Dental Dog Treats</td>\n",
       "    </tr>\n",
       "  </tbody>\n",
       "</table>\n",
       "</div>"
      ],
      "text/plain": [
       "                                       Dental Treats\n",
       "0                 Greenies Regular Dental Dog Treats\n",
       "1                  Greenies Teenie Dental Dog Treats\n",
       "2                   Greenies Large Dental Dog Treats\n",
       "3  Authority® Dental & DHA Stick Puppy Treats Par...\n",
       "4                  Greenies Petite Dental Dog Treats"
      ]
     },
     "execution_count": 20,
     "metadata": {},
     "output_type": "execute_result"
    }
   ],
   "source": [
    "# display df.head()\n",
    "df.head()"
   ]
  },
  {
   "cell_type": "markdown",
   "metadata": {},
   "source": [
    "# Part 2\n",
    "\n",
    "load in the csv file located in the `data` folder called `part2.csv`\n",
    "\n",
    "create a function that calculates the zscores of an array\n",
    "\n",
    "then calculate the zscores for each column in part2.csv and add them as columns\n",
    "\n",
    "See below for final result\n",
    "\n",
    "<img src=\"solutions/images/part2_df_preview.png\"/>"
   ]
  },
  {
   "cell_type": "code",
   "execution_count": 21,
   "metadata": {},
   "outputs": [
    {
     "data": {
      "text/html": [
       "<div>\n",
       "<style scoped>\n",
       "    .dataframe tbody tr th:only-of-type {\n",
       "        vertical-align: middle;\n",
       "    }\n",
       "\n",
       "    .dataframe tbody tr th {\n",
       "        vertical-align: top;\n",
       "    }\n",
       "\n",
       "    .dataframe thead th {\n",
       "        text-align: right;\n",
       "    }\n",
       "</style>\n",
       "<table border=\"1\" class=\"dataframe\">\n",
       "  <thead>\n",
       "    <tr style=\"text-align: right;\">\n",
       "      <th></th>\n",
       "      <th>salaries</th>\n",
       "      <th>NPS Score</th>\n",
       "      <th>eventOutcome</th>\n",
       "    </tr>\n",
       "  </thead>\n",
       "  <tbody>\n",
       "    <tr>\n",
       "      <th>0</th>\n",
       "      <td>44112.0</td>\n",
       "      <td>-7.0</td>\n",
       "      <td>1</td>\n",
       "    </tr>\n",
       "    <tr>\n",
       "      <th>1</th>\n",
       "      <td>46777.0</td>\n",
       "      <td>-12.0</td>\n",
       "      <td>2</td>\n",
       "    </tr>\n",
       "    <tr>\n",
       "      <th>2</th>\n",
       "      <td>50013.0</td>\n",
       "      <td>50.0</td>\n",
       "      <td>5</td>\n",
       "    </tr>\n",
       "    <tr>\n",
       "      <th>3</th>\n",
       "      <td>48983.0</td>\n",
       "      <td>-13.0</td>\n",
       "      <td>0</td>\n",
       "    </tr>\n",
       "    <tr>\n",
       "      <th>4</th>\n",
       "      <td>50751.0</td>\n",
       "      <td>-11.0</td>\n",
       "      <td>6</td>\n",
       "    </tr>\n",
       "  </tbody>\n",
       "</table>\n",
       "</div>"
      ],
      "text/plain": [
       "   salaries  NPS Score  eventOutcome\n",
       "0   44112.0       -7.0             1\n",
       "1   46777.0      -12.0             2\n",
       "2   50013.0       50.0             5\n",
       "3   48983.0      -13.0             0\n",
       "4   50751.0      -11.0             6"
      ]
     },
     "execution_count": 21,
     "metadata": {},
     "output_type": "execute_result"
    }
   ],
   "source": [
    "# load in the dataframe, notice it only contains columns salaries, NPS Score, eventOutcome\n",
    "df_2 = pd.read_csv('data/part2.csv')\n",
    "df_2.head()"
   ]
  },
  {
   "cell_type": "code",
   "execution_count": 22,
   "metadata": {},
   "outputs": [
    {
     "name": "stdout",
     "output_type": "stream",
     "text": [
      "49953.2898 4000.459734609712\n",
      "20.327 29.913907123073603\n",
      "3.5356 2.2984754159763314\n"
     ]
    }
   ],
   "source": [
    "salary_mean = df_2['salaries'].mean()\n",
    "salary_std = df_2['salaries'].std()\n",
    "\n",
    "nps_mean =  df_2['NPS Score'].mean()\n",
    "nps_std =  df_2['NPS Score'].std()\n",
    "\n",
    "event_mean = df_2['eventOutcome'].mean()\n",
    "event_std = df_2['eventOutcome'].std()\n",
    "\n",
    "print(salary_mean, salary_std)\n",
    "print(nps_mean, nps_std)\n",
    "print(event_mean, event_std)"
   ]
  },
  {
   "cell_type": "code",
   "execution_count": 53,
   "metadata": {},
   "outputs": [
    {
     "name": "stdout",
     "output_type": "stream",
     "text": [
      "-11.238154808669226\n",
      "166.48346942837742\n",
      "2174.034182252448\n"
     ]
    }
   ],
   "source": [
    "def zscores(arr):\n",
    "    \"\"\"\n",
    "    write a function that calculates \n",
    "    the zscores of a numpy arr, arr.\n",
    "    \"\"\"\n",
    "    for index in df_2:\n",
    "        z = (len(df_2[index]) - np.mean(df_2[index])) / np.std(df_2[index])\n",
    "        print(z)\n",
    "        \n",
    "        \n",
    "zscores(df_2)"
   ]
  },
  {
   "cell_type": "code",
   "execution_count": 9,
   "metadata": {},
   "outputs": [],
   "source": [
    "# calculate the zscore for each column and store them as a new column with the names used above\n",
    "df_2['salaries_zscores'] = zscores(df_2['salaries_zscores'])\n",
    "df_2['NPS score_zscores'] = zscores(df_2['NPS score_zscores'])\n",
    "df_2['eventOutcome_zscores'] = zscores(df_2['eventOutcome_zscores'])"
   ]
  },
  {
   "cell_type": "markdown",
   "metadata": {},
   "source": [
    "# Part 3 \n",
    "plot 'salaries' and 'NPS Score' on a subplot (1 row 2 columns) \n",
    "then repeat this for the zscores\n",
    "\n",
    "see image below for reference\n",
    "<img src=\"solutions/images/part2-plots.png\"/>"
   ]
  },
  {
   "cell_type": "code",
   "execution_count": 23,
   "metadata": {},
   "outputs": [],
   "source": [
    "import matplotlib.pyplot as plt\n",
    "%matplotlib inline"
   ]
  },
  {
   "cell_type": "code",
   "execution_count": 24,
   "metadata": {},
   "outputs": [
    {
     "data": {
      "text/plain": [
       "Text(0.5, 0, 'NPS Scores')"
      ]
     },
     "execution_count": 24,
     "metadata": {},
     "output_type": "execute_result"
    },
    {
     "data": {
      "image/png": "[encoded data removed]",
      "text/plain": [
       "<Figure size 1080x360 with 2 Axes>"
      ]
     },
     "metadata": {
      "needs_background": "light"
     },
     "output_type": "display_data"
    }
   ],
   "source": [
    "# plot for raw salaries and NPS Score data goes here\n",
    "fig = plt.figure(figsize=(15,5))\n",
    "\n",
    "\n",
    "ax1 = fig.add_subplot(121)\n",
    "ax2 = fig.add_subplot(122)\n",
    "\n",
    "ax1.hist(df_2['salaries'])\n",
    "ax2.hist(df_2['NPS Score'])\n",
    "\n",
    "ax1.set_title (\"salaries\");\n",
    "ax2.set_title (\"NPS Scores\");\n",
    "\n",
    "ax1.set_ylabel('Frequency')\n",
    "ax1.set_xlabel('salaries')\n",
    "ax2.set_xlabel('NPS Scores')"
   ]
  },
  {
   "cell_type": "code",
   "execution_count": 89,
   "metadata": {},
   "outputs": [],
   "source": [
    "# plot for zscores for salaries and NPS Score data goes here"
   ]
  },
  {
   "cell_type": "markdown",
   "metadata": {},
   "source": [
    "# Part 4 - PMF\n",
    "using the column 'eventOutcomes'\n",
    "\n",
    "create a PMF and plot the PMF as a bar chart\n",
    "\n",
    "See image below for referenc\n",
    "\n",
    "<img src=\"solutions/images/part4_pmf.png\"/>"
   ]
  },
  {
   "cell_type": "code",
   "execution_count": 25,
   "metadata": {},
   "outputs": [
    {
     "name": "stdout",
     "output_type": "stream",
     "text": [
      "Counter({4: 666, 7: 661, 3: 636, 0: 624, 6: 622, 1: 608, 2: 592, 5: 591})\n",
      "5000\n"
     ]
    }
   ],
   "source": [
    "import collections\n",
    "counter = collections.Counter(df_2['eventOutcome'])\n",
    "print(counter)\n",
    "print(len(df_2['eventOutcome']))"
   ]
  },
  {
   "cell_type": "code",
   "execution_count": 91,
   "metadata": {},
   "outputs": [
    {
     "name": "stdout",
     "output_type": "stream",
     "text": [
      "dict_keys([1, 2, 5, 0, 6, 4, 3, 7]) [0.122, 0.118, 0.118, 0.125, 0.124, 0.133, 0.127, 0.132]\n"
     ]
    },
    {
     "data": {
      "text/plain": [
       "Text(0, 0.5, 'Probability')"
      ]
     },
     "execution_count": 91,
     "metadata": {},
     "output_type": "execute_result"
    },
    {
     "data": {
      "image/png": "[encoded data removed]",
      "text/plain": [
       "<Figure size 432x288 with 1 Axes>"
      ]
     },
     "metadata": {
      "needs_background": "light"
     },
     "output_type": "display_data"
    }
   ],
   "source": [
    "pmf = []\n",
    "\n",
    "for key,val in counter.items():\n",
    "    pmf.append(round(val/5000, 3))\n",
    "    \n",
    "print(counter.keys(), pmf)\n",
    "\n",
    "plt.bar(counter.keys(), pmf);\n",
    "plt.title(\"Event Outcome PMF\");\n",
    "plt.xlabel('Event Outcome')\n",
    "plt.ylabel('Probability')"
   ]
  },
  {
   "cell_type": "markdown",
   "metadata": {},
   "source": [
    "# Part 5 - CDF\n",
    "plot the CDF of Event Outcomes as a scatter plot using the information above\n",
    "\n",
    "See image below for reference \n",
    "\n",
    "<img src=\"solutions/images/part5_cmf.png\"/>"
   ]
  },
  {
   "cell_type": "code",
   "execution_count": 26,
   "metadata": {},
   "outputs": [
    {
     "name": "stderr",
     "output_type": "stream",
     "text": [
      "/Users/Gabby/opt/anaconda3/envs/learn-env/lib/python3.6/site-packages/ipykernel_launcher.py:2: VisibleDeprecationWarning: Passing `normed=True` on non-uniform bins has always been broken, and computes neither the probability density function nor the probability mass function. The result is only correct if the bins are uniform, when density=True will produce the same result anyway. The argument will be removed in a future version of numpy.\n",
      "  \n"
     ]
    },
    {
     "data": {
      "text/plain": [
       "Text(0, 0.5, 'P(E<=N)')"
      ]
     },
     "execution_count": 26,
     "metadata": {},
     "output_type": "execute_result"
    },
    {
     "data": {
      "image/png": "[encoded data removed]",
      "text/plain": [
       "<Figure size 432x288 with 1 Axes>"
      ]
     },
     "metadata": {
      "needs_background": "light"
     },
     "output_type": "display_data"
    }
   ],
   "source": [
    "sample = list(counter.keys())\n",
    "hist = np.histogram(sample, bins = 8, range=(0,8), normed=True)\n",
    "plt.scatter(hist[1][:-1], np.cumsum(hist[0]))\n",
    "plt.title('Cumulative Mass Function for Event Outcome')\n",
    "plt.xlabel('Event Outcome')\n",
    "plt.ylabel('P(E<=N)')"
   ]
  },
  {
   "cell_type": "markdown",
   "metadata": {},
   "source": [
    "# Level Up:\n",
    "* using np.where find salaries with zscores <= -2.0\n",
    "\n",
    "* calculate the skewness and kurtosis for the NPS Score column\n",
    "\n",
    "* plot the pdf and cdf of a given distribution"
   ]
  },
  {
   "cell_type": "code",
   "execution_count": 10,
   "metadata": {},
   "outputs": [],
   "source": [
    "# find salaries with zscores <= 2.0 "
   ]
  },
  {
   "cell_type": "code",
   "execution_count": 11,
   "metadata": {},
   "outputs": [],
   "source": [
    "# calculate skewness and kurtosis of NPS Score column"
   ]
  },
  {
   "cell_type": "markdown",
   "metadata": {},
   "source": [
    "# Plotting a pdf and cdf of a normal distribution\n",
    "A survey is taken that finds that students send an mean average of 80 DMs a day with a standard deviation of 6 DMS. "
   ]
  },
  {
   "cell_type": "code",
   "execution_count": 13,
   "metadata": {},
   "outputs": [],
   "source": [
    "# plot the pdf and cdf of this normal distribution. level up if you can do it in subplots"
   ]
  },
  {
   "cell_type": "code",
   "execution_count": 14,
   "metadata": {},
   "outputs": [],
   "source": [
    "# what is the probability of drawing a student that sends at least 82 DMs a day?"
   ]
  },
  {
   "cell_type": "markdown",
   "metadata": {},
   "source": [
    "A second survey is taken at another bootcamp that shows that students send a mean average of\n",
    "80 DMs a day, but they have a standard deviation of 9 DMS.  "
   ]
  },
  {
   "cell_type": "code",
   "execution_count": 15,
   "metadata": {},
   "outputs": [],
   "source": [
    "# What is the difference in the probability of finding a student that sends, at most, 65 DMs a day? "
   ]
  },
  {
   "cell_type": "markdown",
   "metadata": {},
   "source": [
    "# run the cell below to convert your notebook to a README for assessment"
   ]
  },
  {
   "cell_type": "code",
   "execution_count": 27,
   "metadata": {},
   "outputs": [
    {
     "name": "stdout",
     "output_type": "stream",
     "text": [
      "[NbConvertApp] Converting notebook assessment.ipynb to markdown\n",
      "[NbConvertApp] Support files will be in assessment_files/\n",
      "[NbConvertApp] Making directory assessment_files\n",
      "[NbConvertApp] Making directory assessment_files\n",
      "[NbConvertApp] Making directory assessment_files\n",
      "[NbConvertApp] Writing 26362 bytes to assessment.md\n"
     ]
    }
   ],
   "source": [
    "!jupyter nbconvert --to markdown assessment.ipynb && mv assessment.md README.md"
   ]
  },
  {
   "cell_type": "code",
   "execution_count": null,
   "metadata": {},
   "outputs": [],
   "source": []
  }
 ],
 "metadata": {
  "kernelspec": {
   "display_name": "learn-env",
   "language": "python",
   "name": "learn-env"
  },
  "language_info": {
   "codemirror_mode": {
    "name": "ipython",
    "version": 3
   },
   "file_extension": ".py",
   "mimetype": "text/x-python",
   "name": "python",
   "nbconvert_exporter": "python",
   "pygments_lexer": "ipython3",
   "version": "3.6.9"
  },
  "toc": {
   "base_numbering": 1,
   "nav_menu": {},
   "number_sections": false,
   "sideBar": true,
   "skip_h1_title": false,
   "title_cell": "Table of Contents",
   "title_sidebar": "Contents",
   "toc_cell": false,
   "toc_position": {},
   "toc_section_display": true,
   "toc_window_display": false
  },
  "varInspector": {
   "cols": {
    "lenName": 16,
    "lenType": 16,
    "lenVar": 40
   },
   "kernels_config": {
    "python": {
     "delete_cmd_postfix": "",
     "delete_cmd_prefix": "del ",
     "library": "var_list.py",
     "varRefreshCmd": "print(var_dic_list())"
    },
    "r": {
     "delete_cmd_postfix": ") ",
     "delete_cmd_prefix": "rm(",
     "library": "var_list.r",
     "varRefreshCmd": "cat(var_dic_list()) "
    }
   },
   "types_to_exclude": [
    "module",
    "function",
    "builtin_function_or_method",
    "instance",
    "_Feature"
   ],
   "window_display": false
  }
 },
 "nbformat": 4,
 "nbformat_minor": 2
}
